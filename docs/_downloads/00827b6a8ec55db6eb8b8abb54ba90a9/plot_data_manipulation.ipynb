{
  "cells": [
    {
      "cell_type": "code",
      "execution_count": null,
      "metadata": {
        "collapsed": false
      },
      "outputs": [],
      "source": [
        "%matplotlib inline"
      ]
    },
    {
      "cell_type": "markdown",
      "metadata": {},
      "source": [
        "\n# Data manipulation\n\n<div class=\"alert alert-info\"><h4>Note</h4><p>This is a copy of the jupyter notebook with the\n          following name: Data_manipulation_ECG_PPG.ipynb.\n          The other option is to use the sphinx extension\n          sphinx-nbexamples.</p></div>\n"
      ]
    },
    {
      "cell_type": "code",
      "execution_count": null,
      "metadata": {
        "collapsed": false
      },
      "outputs": [],
      "source": [
        "# Import generic\nimport os\n\n# Import vital_sqi\nfrom vital_sqi.data.signal_io import ECG_reader\n\n# ------------------------------------\n# Load data\n# ------------------------------------\n# Create path\nfolder_name = '../../tests/test_data'\nfile_name = 'example.edf'\npath = os.path.join(folder_name, file_name)\n\n# Read (there is an error when loading)\n#df, info = ECG_reader(path,'edf')\n\n# Show\n#print(df)\n\n# -----------------------------------\n#\n# -----------------------------------"
      ]
    }
  ],
  "metadata": {
    "kernelspec": {
      "display_name": "Python 3",
      "language": "python",
      "name": "python3"
    },
    "language_info": {
      "codemirror_mode": {
        "name": "ipython",
        "version": 3
      },
      "file_extension": ".py",
      "mimetype": "text/x-python",
      "name": "python",
      "nbconvert_exporter": "python",
      "pygments_lexer": "ipython3",
      "version": "3.9.1"
    }
  },
  "nbformat": 4,
  "nbformat_minor": 0
}